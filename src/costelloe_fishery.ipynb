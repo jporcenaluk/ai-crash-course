{
 "cells": [
  {
   "cell_type": "markdown",
   "metadata": {},
   "source": [
    "# Problem Description\n",
    "\n",
    "Costelloe Fishery has a big problem. They've noticed that on occassion their dam has been nearing full capacity, and they have an essential question: how much will rainfall increase in the next 20 years? Should they be concerned that their dam, which was designed quite a while ago, will hold all the expected rainfall?\n",
    "\n",
    "The Irish Government has provided data in the form of a .csv file with daily rainfall from 1960 until 2024. Can we say if rainfall will increase in the future? How much certainty will we have?"
   ]
  },
  {
   "cell_type": "markdown",
   "metadata": {},
   "source": [
    "## Loading and Cleaning Data\n",
    "\n",
    "Loading is straightforward (well, sometimes), it's just getting the data into somewhere it can be manipulated. It's easiest to get it into Pandas, typically. If the dataset is too big to get into Pandas, the easiest route to explore it might be to cut it down to size. You can't know what to do with it until you understand it! Sometimes (as in this case) it means a bit of manipulation of the data, such as forcing dates to be dates, removing or filling in null values, etc."
   ]
  },
  {
   "cell_type": "code",
   "execution_count": 24,
   "metadata": {},
   "outputs": [],
   "source": [
    "# Clean the data (Remove superflous information)\n",
    "\n",
    "with open(\"./costelloe_fishery.csv\", \"r\", encoding=\"utf-8\") as f:\n",
    "    csv_data = [line for line in f.readlines() if line.count(\",\") >= 2]\n",
    "\n",
    "with open(\"./costello_fishery_clean.csv\", \"w\", encoding=\"utf-8\") as f:\n",
    "    f.write(\"\".join(csv_data))"
   ]
  },
  {
   "cell_type": "code",
   "execution_count": 25,
   "metadata": {},
   "outputs": [
    {
     "data": {
      "text/html": [
       "<div>\n",
       "<style scoped>\n",
       "    .dataframe tbody tr th:only-of-type {\n",
       "        vertical-align: middle;\n",
       "    }\n",
       "\n",
       "    .dataframe tbody tr th {\n",
       "        vertical-align: top;\n",
       "    }\n",
       "\n",
       "    .dataframe thead th {\n",
       "        text-align: right;\n",
       "    }\n",
       "</style>\n",
       "<table border=\"1\" class=\"dataframe\">\n",
       "  <thead>\n",
       "    <tr style=\"text-align: right;\">\n",
       "      <th></th>\n",
       "      <th>date</th>\n",
       "      <th>ind</th>\n",
       "      <th>rain</th>\n",
       "    </tr>\n",
       "  </thead>\n",
       "  <tbody>\n",
       "    <tr>\n",
       "      <th>0</th>\n",
       "      <td>01-oct-1960</td>\n",
       "      <td>8</td>\n",
       "      <td>17.8</td>\n",
       "    </tr>\n",
       "    <tr>\n",
       "      <th>1</th>\n",
       "      <td>02-oct-1960</td>\n",
       "      <td>8</td>\n",
       "      <td>3.0</td>\n",
       "    </tr>\n",
       "    <tr>\n",
       "      <th>2</th>\n",
       "      <td>03-oct-1960</td>\n",
       "      <td>8</td>\n",
       "      <td>0.2</td>\n",
       "    </tr>\n",
       "    <tr>\n",
       "      <th>3</th>\n",
       "      <td>04-oct-1960</td>\n",
       "      <td>8</td>\n",
       "      <td>0.2</td>\n",
       "    </tr>\n",
       "    <tr>\n",
       "      <th>4</th>\n",
       "      <td>05-oct-1960</td>\n",
       "      <td>8</td>\n",
       "      <td>2.1</td>\n",
       "    </tr>\n",
       "  </tbody>\n",
       "</table>\n",
       "</div>"
      ],
      "text/plain": [
       "          date  ind  rain\n",
       "0  01-oct-1960    8  17.8\n",
       "1  02-oct-1960    8   3.0\n",
       "2  03-oct-1960    8   0.2\n",
       "3  04-oct-1960    8   0.2\n",
       "4  05-oct-1960    8   2.1"
      ]
     },
     "execution_count": 25,
     "metadata": {},
     "output_type": "execute_result"
    }
   ],
   "source": [
    "# Load the data\n",
    "import pandas as pd\n",
    " \n",
    "df = pd.read_csv(\"./costello_fishery_clean.csv\")\n",
    "df.head()"
   ]
  },
  {
   "cell_type": "code",
   "execution_count": 26,
   "metadata": {},
   "outputs": [
    {
     "name": "stderr",
     "output_type": "stream",
     "text": [
      "/tmp/ipykernel_272092/1080621281.py:5: UserWarning: Could not infer format, so each element will be parsed individually, falling back to `dateutil`. To ensure parsing is consistent and as-expected, please specify a format.\n",
      "  df[\"date\"] = pd.to_datetime(df[\"date\"])\n"
     ]
    },
    {
     "data": {
      "text/html": [
       "<div>\n",
       "<style scoped>\n",
       "    .dataframe tbody tr th:only-of-type {\n",
       "        vertical-align: middle;\n",
       "    }\n",
       "\n",
       "    .dataframe tbody tr th {\n",
       "        vertical-align: top;\n",
       "    }\n",
       "\n",
       "    .dataframe thead th {\n",
       "        text-align: right;\n",
       "    }\n",
       "</style>\n",
       "<table border=\"1\" class=\"dataframe\">\n",
       "  <thead>\n",
       "    <tr style=\"text-align: right;\">\n",
       "      <th></th>\n",
       "      <th>date</th>\n",
       "      <th>ind</th>\n",
       "      <th>rain_mm</th>\n",
       "    </tr>\n",
       "  </thead>\n",
       "  <tbody>\n",
       "    <tr>\n",
       "      <th>0</th>\n",
       "      <td>1960-10-01</td>\n",
       "      <td>8</td>\n",
       "      <td>17.8</td>\n",
       "    </tr>\n",
       "    <tr>\n",
       "      <th>1</th>\n",
       "      <td>1960-10-02</td>\n",
       "      <td>8</td>\n",
       "      <td>3.0</td>\n",
       "    </tr>\n",
       "    <tr>\n",
       "      <th>2</th>\n",
       "      <td>1960-10-03</td>\n",
       "      <td>8</td>\n",
       "      <td>0.2</td>\n",
       "    </tr>\n",
       "    <tr>\n",
       "      <th>3</th>\n",
       "      <td>1960-10-04</td>\n",
       "      <td>8</td>\n",
       "      <td>0.2</td>\n",
       "    </tr>\n",
       "    <tr>\n",
       "      <th>4</th>\n",
       "      <td>1960-10-05</td>\n",
       "      <td>8</td>\n",
       "      <td>2.1</td>\n",
       "    </tr>\n",
       "  </tbody>\n",
       "</table>\n",
       "</div>"
      ],
      "text/plain": [
       "        date  ind  rain_mm\n",
       "0 1960-10-01    8     17.8\n",
       "1 1960-10-02    8      3.0\n",
       "2 1960-10-03    8      0.2\n",
       "3 1960-10-04    8      0.2\n",
       "4 1960-10-05    8      2.1"
      ]
     },
     "execution_count": 26,
     "metadata": {},
     "output_type": "execute_result"
    }
   ],
   "source": [
    "# Clean the data (ensure dates are real)\n",
    "## resource used: https://saturncloud.io/blog/converting-a-column-to-date-format-in-pandas-dataframe/\n",
    "\n",
    "df = df.fillna(0)\n",
    "df[\"date\"] = pd.to_datetime(df[\"date\"])\n",
    "df[\"ind\"] = pd.to_numeric(df[\"ind\"])\n",
    "df[\"rain\"] = pd.to_numeric(df[\"rain\"])\n",
    "df = df.rename(columns={\"rain\": \"rain_mm\"})\n",
    "df.head()"
   ]
  },
  {
   "cell_type": "markdown",
   "metadata": {},
   "source": [
    "## Exploratory Data Analysis (EDA)\n",
    "\n",
    "This is what it says on the tin - playing around with the data until it is understood. That can mean visualising, using summary statistics, etc. to better get a grip on the kind of data we're looking at."
   ]
  },
  {
   "cell_type": "code",
   "execution_count": 27,
   "metadata": {},
   "outputs": [
    {
     "data": {
      "text/plain": [
       "(23285, 3)"
      ]
     },
     "execution_count": 27,
     "metadata": {},
     "output_type": "execute_result"
    }
   ],
   "source": [
    "# Exploratory Data Analysis\n",
    "\n",
    "# this shows how many rows there are, and how many columns\n",
    "df.shape"
   ]
  },
  {
   "cell_type": "code",
   "execution_count": 28,
   "metadata": {},
   "outputs": [
    {
     "name": "stdout",
     "output_type": "stream",
     "text": [
      "Minimum 0.0 Maximum 98.0\n",
      "Mean 3.57\n",
      "Variance 32.04\n"
     ]
    }
   ],
   "source": [
    "## Summary Stats\n",
    "from scipy.stats import describe\n",
    "\n",
    "result = describe(df[\"rain_mm\"])\n",
    "print(\"Minimum\", result.minmax[0], \"Maximum\", result.minmax[1])\n",
    "print(\"Mean\", round(result.mean, 2))\n",
    "print(\"Variance\", round(result.variance, 2))"
   ]
  },
  {
   "cell_type": "code",
   "execution_count": 29,
   "metadata": {},
   "outputs": [
    {
     "data": {
      "image/png": "[encoded data removed]",
      "text/plain": [
       "<Figure size 640x480 with 1 Axes>"
      ]
     },
     "metadata": {},
     "output_type": "display_data"
    }
   ],
   "source": [
    "## Visualisation (time series)\n",
    "# resources used:\n",
    "# https://www.datacamp.com/tutorial/python-seaborn-line-plot-tutorial\n",
    "import seaborn as sns\n",
    "\n",
    "sns.set_theme()\n",
    "\n",
    "sns.lineplot(data=df, x=\"date\", y=\"rain_mm\", style=\"ind\");"
   ]
  },
  {
   "cell_type": "code",
   "execution_count": 30,
   "metadata": {},
   "outputs": [
    {
     "data": {
      "image/png": "[encoded data removed]",
      "text/plain": [
       "<Figure size 640x480 with 1 Axes>"
      ]
     },
     "metadata": {},
     "output_type": "display_data"
    }
   ],
   "source": [
    "sns.boxplot(data=df, x=\"rain_mm\");"
   ]
  },
  {
   "cell_type": "markdown",
   "metadata": {},
   "source": [
    "## Feature Engineering\n",
    "\n",
    "To make the data workable, feature engineering can help us make use of it better. In this example, we extract the year from the date (which we'll use to predict rainfall)."
   ]
  },
  {
   "cell_type": "code",
   "execution_count": 32,
   "metadata": {},
   "outputs": [],
   "source": [
    "df[\"year\"] = df[\"date\"].dt.year"
   ]
  },
  {
   "cell_type": "markdown",
   "metadata": {},
   "source": [
    "## Training\n",
    "\n",
    "Usually the data is split into training and test datasets. The training data is used to (you guessed it) teach the computer, the test data is left out to find out how well the computer was taught. If we include all the data to train, we may not know how it does on 'unforseen' data (it may overfit).\n",
    "\n",
    "We can try that here: take training and evaluation datasets from the data, and use linear regression to train it, and see (based on the evaluation) if it generally fits the history. This will help inform if we're making a general conclusion about rainfall or if we've overfit to the data."
   ]
  },
  {
   "cell_type": "code",
   "execution_count": 33,
   "metadata": {},
   "outputs": [
    {
     "name": "stdout",
     "output_type": "stream",
     "text": [
      "X train (18628, 1)\n",
      "X_test (4657, 1)\n"
     ]
    }
   ],
   "source": [
    "# Use Linear Regression\n",
    "## Resources\n",
    "# https://scikit-learn.org/dev/modules/generated/sklearn.linear_model.LinearRegression.html\n",
    "# https://scikit-learn.org/dev/modules/generated/sklearn.model_selection.train_test_split.html\n",
    "\n",
    "from sklearn.linear_model import LinearRegression\n",
    "from sklearn.model_selection import train_test_split\n",
    "\n",
    "# splint into training and test dataset\n",
    "X_train, X_test, y_train, y_test = train_test_split(df[[\"year\"]], df[[\"rain_mm\"]], shuffle=True, train_size=0.8)\n",
    "print(\"X train\", X_train.shape)\n",
    "print(\"X_test\", X_test.shape)"
   ]
  },
  {
   "cell_type": "code",
   "execution_count": null,
   "metadata": {},
   "outputs": [
    {
     "name": "stdout",
     "output_type": "stream",
     "text": [
      "Coefficients: \n",
      " [[0.01275629]]\n",
      "Mean squared error: 31.17\n",
      "Coefficient of determination: -0.00\n"
     ]
    }
   ],
   "source": [
    "from sklearn.metrics import mean_squared_error, r2_score\n",
    "\n",
    "## Resources:\n",
    "# https://www.scribbr.com/statistics/coefficient-of-determination\n",
    "\n",
    "# train\n",
    "reg = LinearRegression().fit(X=X_train, y=y_train)\n",
    "\n",
    "# predict\n",
    "y_pred = reg.predict(X_test)\n",
    "\n",
    "# The coefficients\n",
    "print(\"Coefficients: \\n\", reg.coef_)\n",
    "# The mean squared error\n",
    "print(\"Mean squared error: %.2f\" % mean_squared_error(y_test, y_pred))\n",
    "# The coefficient of determination: 1 is perfect prediction\n",
    "print(\"Coefficient of determination: %.2f\" % r2_score(y_test, y_pred))"
   ]
  },
  {
   "cell_type": "code",
   "execution_count": 37,
   "metadata": {},
   "outputs": [
    {
     "data": {
      "image/png": "[encoded data removed]",
      "text/plain": [
       "<Figure size 640x480 with 1 Axes>"
      ]
     },
     "metadata": {},
     "output_type": "display_data"
    }
   ],
   "source": [
    "# Plot outputs\n",
    "import matplotlib.pyplot as plt\n",
    "\n",
    "plt.scatter(X_test, y_test, color=\"black\")\n",
    "plt.plot(X_test, y_pred, color=\"blue\", linewidth=1)\n",
    "\n",
    "plt.xticks(label=\"year\")\n",
    "plt.yticks(())\n",
    "\n",
    "plt.show()"
   ]
  }
 ],
 "metadata": {
  "kernelspec": {
   "display_name": ".venv",
   "language": "python",
   "name": "python3"
  },
  "language_info": {
   "codemirror_mode": {
    "name": "ipython",
    "version": 3
   },
   "file_extension": ".py",
   "mimetype": "text/x-python",
   "name": "python",
   "nbconvert_exporter": "python",
   "pygments_lexer": "ipython3",
   "version": "3.10.12"
  }
 },
 "nbformat": 4,
 "nbformat_minor": 2
}
